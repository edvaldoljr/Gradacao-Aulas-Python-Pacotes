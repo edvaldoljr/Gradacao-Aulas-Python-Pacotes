{
 "cells": [
  {
   "cell_type": "code",
   "execution_count": 1,
   "id": "ca29e94c",
   "metadata": {},
   "outputs": [],
   "source": [
    "import numpy as np"
   ]
  },
  {
   "cell_type": "code",
   "execution_count": 2,
   "id": "f633c944",
   "metadata": {},
   "outputs": [],
   "source": [
    "import pandas as pd"
   ]
  },
  {
   "cell_type": "code",
   "execution_count": 1,
   "id": "07f40fdc",
   "metadata": {},
   "outputs": [],
   "source": [
    "#Panda pacote que manipula planilhas."
   ]
  },
  {
   "cell_type": "code",
   "execution_count": 2,
   "id": "4a08c507",
   "metadata": {},
   "outputs": [],
   "source": [
    "#ou tabelas"
   ]
  },
  {
   "cell_type": "code",
   "execution_count": null,
   "id": "e494e333",
   "metadata": {},
   "outputs": [],
   "source": []
  }
 ],
 "metadata": {
  "kernelspec": {
   "display_name": "Python 3 (ipykernel)",
   "language": "python",
   "name": "python3"
  },
  "language_info": {
   "codemirror_mode": {
    "name": "ipython",
    "version": 3
   },
   "file_extension": ".py",
   "mimetype": "text/x-python",
   "name": "python",
   "nbconvert_exporter": "python",
   "pygments_lexer": "ipython3",
   "version": "3.11.5"
  }
 },
 "nbformat": 4,
 "nbformat_minor": 5
}
