{
 "cells": [
  {
   "cell_type": "code",
   "execution_count": 2,
   "id": "1d0d2365",
   "metadata": {
    "ExecuteTime": {
     "end_time": "2024-02-20T20:42:02.261202500Z",
     "start_time": "2024-02-20T20:42:02.190784700Z"
    }
   },
   "outputs": [],
   "source": [
    "#ARRAYS"
   ]
  },
  {
   "cell_type": "code",
   "execution_count": 7,
   "id": "6e7c73b4",
   "metadata": {
    "ExecuteTime": {
     "end_time": "2024-02-20T20:44:16.779497600Z",
     "start_time": "2024-02-20T20:44:16.753405900Z"
    }
   },
   "outputs": [],
   "source": [
    "# Criando uma matriz, array dentro de array\n",
    "import numpy as np"
   ]
  },
  {
   "cell_type": "code",
   "execution_count": 58,
   "id": "84a5de61",
   "metadata": {},
   "outputs": [
    {
     "ename": "AttributeError",
     "evalue": "module 'numpy' has no attribute 'aray'",
     "output_type": "error",
     "traceback": [
      "\u001B[1;31m---------------------------------------------------------------------------\u001B[0m",
      "\u001B[1;31mAttributeError\u001B[0m                            Traceback (most recent call last)",
      "Cell \u001B[1;32mIn[58], line 1\u001B[0m\n\u001B[1;32m----> 1\u001B[0m matriz \u001B[38;5;241m=\u001B[39m np\u001B[38;5;241m.\u001B[39maray([[\u001B[38;5;241m1\u001B[39m,\u001B[38;5;241m2\u001B[39m,\u001B[38;5;241m3\u001B[39m],[\u001B[38;5;241m1\u001B[39m,\u001B[38;5;241m2\u001B[39m,\u001B[38;5;241m3\u001B[39m]])\n",
      "File \u001B[1;32m~\\anaconda3\\Lib\\site-packages\\numpy\\__init__.py:320\u001B[0m, in \u001B[0;36m__getattr__\u001B[1;34m(attr)\u001B[0m\n\u001B[0;32m    317\u001B[0m     \u001B[38;5;28;01mfrom\u001B[39;00m \u001B[38;5;21;01m.\u001B[39;00m\u001B[38;5;21;01mtesting\u001B[39;00m \u001B[38;5;28;01mimport\u001B[39;00m Tester\n\u001B[0;32m    318\u001B[0m     \u001B[38;5;28;01mreturn\u001B[39;00m Tester\n\u001B[1;32m--> 320\u001B[0m \u001B[38;5;28;01mraise\u001B[39;00m \u001B[38;5;167;01mAttributeError\u001B[39;00m(\u001B[38;5;124m\"\u001B[39m\u001B[38;5;124mmodule \u001B[39m\u001B[38;5;132;01m{!r}\u001B[39;00m\u001B[38;5;124m has no attribute \u001B[39m\u001B[38;5;124m\"\u001B[39m\n\u001B[0;32m    321\u001B[0m                      \u001B[38;5;124m\"\u001B[39m\u001B[38;5;132;01m{!r}\u001B[39;00m\u001B[38;5;124m\"\u001B[39m\u001B[38;5;241m.\u001B[39mformat(\u001B[38;5;18m__name__\u001B[39m, attr))\n",
      "\u001B[1;31mAttributeError\u001B[0m: module 'numpy' has no attribute 'aray'"
     ]
    }
   ],
   "source": [
    "matriz = np.aray([[1,2,3],[1,2,3]])"
   ]
  },
  {
   "cell_type": "code",
   "execution_count": 59,
   "id": "8346a2b3",
   "metadata": {},
   "outputs": [],
   "source": [
    "matriz = np.array([[1,2,3],[4,5,6]])"
   ]
  },
  {
   "cell_type": "code",
   "execution_count": 60,
   "id": "26bcdc72",
   "metadata": {},
   "outputs": [
    {
     "name": "stdout",
     "output_type": "stream",
     "text": [
      "[[1 2 3]\n",
      " [4 5 6]]\n"
     ]
    }
   ],
   "source": [
    "print(matriz)"
   ]
  },
  {
   "cell_type": "code",
   "execution_count": 61,
   "id": "db65d3a3",
   "metadata": {},
   "outputs": [],
   "source": [
    "matriz = np.array([[1,2,3],[4,5,6],[1,2,3]])"
   ]
  },
  {
   "cell_type": "code",
   "execution_count": 62,
   "id": "11478e89",
   "metadata": {},
   "outputs": [
    {
     "name": "stdout",
     "output_type": "stream",
     "text": [
      "[[1 2 3]\n",
      " [4 5 6]\n",
      " [1 2 3]]\n"
     ]
    }
   ],
   "source": [
    "print(matriz)"
   ]
  },
  {
   "cell_type": "code",
   "execution_count": 63,
   "id": "435e6770",
   "metadata": {},
   "outputs": [],
   "source": [
    "# Se listarmos as dimensões da matriz, teremos 3"
   ]
  },
  {
   "cell_type": "code",
   "execution_count": 64,
   "id": "9ef45fd2",
   "metadata": {},
   "outputs": [
    {
     "data": {
      "text/plain": [
       "(3, 3)"
      ]
     },
     "execution_count": 64,
     "metadata": {},
     "output_type": "execute_result"
    }
   ],
   "source": [
    "matriz.shape"
   ]
  },
  {
   "cell_type": "code",
   "execution_count": 65,
   "id": "56552e95",
   "metadata": {},
   "outputs": [
    {
     "name": "stdout",
     "output_type": "stream",
     "text": [
      "(3, 3)\n"
     ]
    }
   ],
   "source": [
    "print(matriz.shape)"
   ]
  },
  {
   "cell_type": "code",
   "execution_count": 66,
   "id": "07af8668",
   "metadata": {},
   "outputs": [],
   "source": [
    "# Saída (3, 3) = linhas,colunas\n"
   ]
  },
  {
   "cell_type": "code",
   "execution_count": 67,
   "id": "65eee6e6",
   "metadata": {},
   "outputs": [],
   "source": [
    "# Criando uma matriz 3x3 apenas com números 1, podemos usar também a função\n",
    "#zeros vista anteriormente \n"
   ]
  },
  {
   "cell_type": "code",
   "execution_count": 68,
   "id": "fec6eb98",
   "metadata": {},
   "outputs": [],
   "source": [
    "matriz1 = np.ones((3,3))"
   ]
  },
  {
   "cell_type": "code",
   "execution_count": 69,
   "id": "cbc7a28c",
   "metadata": {},
   "outputs": [
    {
     "data": {
      "text/plain": [
       "array([[1., 1., 1.],\n",
       "       [1., 1., 1.],\n",
       "       [1., 1., 1.]])"
      ]
     },
     "execution_count": 69,
     "metadata": {},
     "output_type": "execute_result"
    }
   ],
   "source": [
    "matriz1"
   ]
  },
  {
   "cell_type": "code",
   "execution_count": 70,
   "id": "e142b186",
   "metadata": {},
   "outputs": [],
   "source": [
    "matriz2 = np.zeros(3)"
   ]
  },
  {
   "cell_type": "code",
   "execution_count": 71,
   "id": "e6269807",
   "metadata": {},
   "outputs": [
    {
     "data": {
      "text/plain": [
       "array([0., 0., 0.])"
      ]
     },
     "execution_count": 71,
     "metadata": {},
     "output_type": "execute_result"
    }
   ],
   "source": [
    "matriz2"
   ]
  },
  {
   "cell_type": "code",
   "execution_count": 72,
   "id": "93420343",
   "metadata": {},
   "outputs": [],
   "source": [
    "martriz3 = np.zeros((3,3))"
   ]
  },
  {
   "cell_type": "code",
   "execution_count": 73,
   "id": "ea3d3425",
   "metadata": {},
   "outputs": [
    {
     "ename": "NameError",
     "evalue": "name 'matriz3' is not defined",
     "output_type": "error",
     "traceback": [
      "\u001B[1;31m---------------------------------------------------------------------------\u001B[0m",
      "\u001B[1;31mNameError\u001B[0m                                 Traceback (most recent call last)",
      "Cell \u001B[1;32mIn[73], line 1\u001B[0m\n\u001B[1;32m----> 1\u001B[0m matriz3\n",
      "\u001B[1;31mNameError\u001B[0m: name 'matriz3' is not defined"
     ]
    }
   ],
   "source": [
    "matriz3"
   ]
  },
  {
   "cell_type": "code",
   "execution_count": 74,
   "id": "80d995c0",
   "metadata": {},
   "outputs": [
    {
     "data": {
      "text/plain": [
       "array([[0., 0., 0.],\n",
       "       [0., 0., 0.],\n",
       "       [0., 0., 0.]])"
      ]
     },
     "execution_count": 74,
     "metadata": {},
     "output_type": "execute_result"
    }
   ],
   "source": [
    "martriz3"
   ]
  },
  {
   "cell_type": "code",
   "execution_count": 75,
   "id": "673e705c",
   "metadata": {},
   "outputs": [],
   "source": [
    "# Para saber a quantidade de elementos da matriz usamos a função size"
   ]
  },
  {
   "cell_type": "code",
   "execution_count": 76,
   "id": "8897f966",
   "metadata": {},
   "outputs": [
    {
     "ename": "NameError",
     "evalue": "name 'martriz' is not defined",
     "output_type": "error",
     "traceback": [
      "\u001B[1;31m---------------------------------------------------------------------------\u001B[0m",
      "\u001B[1;31mNameError\u001B[0m                                 Traceback (most recent call last)",
      "Cell \u001B[1;32mIn[76], line 1\u001B[0m\n\u001B[1;32m----> 1\u001B[0m martriz\u001B[38;5;241m.\u001B[39msize\n",
      "\u001B[1;31mNameError\u001B[0m: name 'martriz' is not defined"
     ]
    }
   ],
   "source": [
    "martriz.size"
   ]
  },
  {
   "cell_type": "code",
   "execution_count": 77,
   "id": "ca97d961",
   "metadata": {},
   "outputs": [
    {
     "data": {
      "text/plain": [
       "9"
      ]
     },
     "execution_count": 77,
     "metadata": {},
     "output_type": "execute_result"
    }
   ],
   "source": [
    "martriz3.size"
   ]
  },
  {
   "cell_type": "code",
   "execution_count": 78,
   "id": "00dccd72",
   "metadata": {},
   "outputs": [],
   "source": [
    "# Para alterar um elemento da matriz, devemos informar o número da linha e coluna"
   ]
  },
  {
   "cell_type": "code",
   "execution_count": 79,
   "id": "6d9a4781",
   "metadata": {},
   "outputs": [],
   "source": [
    "martriz3[1,0] = 100"
   ]
  },
  {
   "cell_type": "code",
   "execution_count": 80,
   "id": "c9c76d3c",
   "metadata": {},
   "outputs": [
    {
     "name": "stdout",
     "output_type": "stream",
     "text": [
      "[[  0.   0.   0.]\n",
      " [100.   0.   0.]\n",
      " [  0.   0.   0.]]\n"
     ]
    }
   ],
   "source": [
    "print(martriz3)"
   ]
  },
  {
   "cell_type": "code",
   "execution_count": 81,
   "id": "9c62f1fc",
   "metadata": {},
   "outputs": [],
   "source": [
    "#Veremos mais algumas funções do Numpy, por exemplo, para manipular valores randômicos e um pouco de estatística. \n",
    "#Ressaltamos que as funções apresentadas nesta seção podem ser utilizadas em vetores ou matrizes."
   ]
  },
  {
   "cell_type": "code",
   "execution_count": 1,
   "id": "f710220a",
   "metadata": {
    "ExecuteTime": {
     "end_time": "2024-02-20T20:39:34.744353200Z",
     "start_time": "2024-02-20T20:39:33.833624300Z"
    }
   },
   "outputs": [],
   "source": [
    "# Usando o método rand() para sortear valores aleatórios"
   ]
  },
  {
   "cell_type": "code",
   "outputs": [
    {
     "name": "stdout",
     "output_type": "stream",
     "text": [
      "[0.88270429 0.92351636 0.71977511 0.92621417 0.4382166  0.57013877\n",
      " 0.42153432 0.79417971 0.53406338 0.77163785]\n"
     ]
    }
   ],
   "source": [
    "import numpy as np\n",
    "\n",
    "print(np.random.rand(10))"
   ],
   "metadata": {
    "collapsed": false,
    "ExecuteTime": {
     "end_time": "2024-02-20T20:42:21.396441700Z",
     "start_time": "2024-02-20T20:42:19.072954100Z"
    }
   },
   "id": "4b96959c52b58a97",
   "execution_count": 3
  },
  {
   "cell_type": "code",
   "outputs": [],
   "source": [
    "# Podemos criar uma matriz 4x4 com valores aleatórios"
   ],
   "metadata": {
    "collapsed": false,
    "ExecuteTime": {
     "end_time": "2024-02-20T20:43:10.018400800Z",
     "start_time": "2024-02-20T20:43:09.858602700Z"
    }
   },
   "id": "6ed9d73f2fc0257d",
   "execution_count": 4
  },
  {
   "cell_type": "code",
   "outputs": [],
   "source": [
    "matriz2 = np.random.randn(4,4)"
   ],
   "metadata": {
    "collapsed": false,
    "ExecuteTime": {
     "end_time": "2024-02-20T20:43:43.968347Z",
     "start_time": "2024-02-20T20:43:43.922344700Z"
    }
   },
   "id": "657b2d20496ce89f",
   "execution_count": 5
  },
  {
   "cell_type": "code",
   "outputs": [
    {
     "name": "stdout",
     "output_type": "stream",
     "text": [
      "[[-1.00520631  0.78399664 -1.44093415  0.38112455]\n",
      " [-0.24214998 -1.26636939  0.28159178 -0.06077165]\n",
      " [-0.65996329  1.58392051  0.42518441 -1.5279169 ]\n",
      " [-0.33537449 -0.4648978   1.50029193  2.14669308]]\n"
     ]
    }
   ],
   "source": [
    "print(matriz2)"
   ],
   "metadata": {
    "collapsed": false,
    "ExecuteTime": {
     "end_time": "2024-02-20T20:43:56.359325Z",
     "start_time": "2024-02-20T20:43:56.104396200Z"
    }
   },
   "id": "8b4702d6e3ab6a60",
   "execution_count": 6
  },
  {
   "cell_type": "code",
   "outputs": [],
   "source": [
    "#Vamos criar um vetor"
   ],
   "metadata": {
    "collapsed": false,
    "ExecuteTime": {
     "end_time": "2024-02-20T20:44:52.111147300Z",
     "start_time": "2024-02-20T20:44:51.995728Z"
    }
   },
   "id": "b6aec4233f4f1bbf",
   "execution_count": 8
  },
  {
   "cell_type": "code",
   "outputs": [],
   "source": [
    "v = np.array([10,37,78,100,175])"
   ],
   "metadata": {
    "collapsed": false,
    "ExecuteTime": {
     "end_time": "2024-02-20T20:45:19.778049700Z",
     "start_time": "2024-02-20T20:45:19.622575200Z"
    }
   },
   "id": "3db9c4a4f2ba1f16",
   "execution_count": 9
  },
  {
   "cell_type": "code",
   "outputs": [],
   "source": [
    "# A média de uma amostra é o valor que aponta para onde mais se concentram\n",
    "#os dados, vamos usar a função mean()"
   ],
   "metadata": {
    "collapsed": false,
    "ExecuteTime": {
     "end_time": "2024-02-20T20:45:31.276857Z",
     "start_time": "2024-02-20T20:45:31.187345700Z"
    }
   },
   "id": "85235578093db284",
   "execution_count": 10
  },
  {
   "cell_type": "code",
   "outputs": [
    {
     "data": {
      "text/plain": "80.0"
     },
     "execution_count": 11,
     "metadata": {},
     "output_type": "execute_result"
    }
   ],
   "source": [
    "np.mean(v)"
   ],
   "metadata": {
    "collapsed": false,
    "ExecuteTime": {
     "end_time": "2024-02-20T20:45:57.936032400Z",
     "start_time": "2024-02-20T20:45:57.810585700Z"
    }
   },
   "id": "845b3661bb9e881",
   "execution_count": 11
  },
  {
   "cell_type": "code",
   "outputs": [],
   "source": [
    "# Já o desvio padrão mostra o quanto de variação existe em relação à média.\n",
    "#Vamos usar o método std()"
   ],
   "metadata": {
    "collapsed": false,
    "ExecuteTime": {
     "end_time": "2024-02-20T20:46:28.045599500Z",
     "start_time": "2024-02-20T20:46:28.012874800Z"
    }
   },
   "id": "de74a117f96d21e5",
   "execution_count": 12
  },
  {
   "cell_type": "code",
   "outputs": [
    {
     "data": {
      "text/plain": "56.8823346918883"
     },
     "execution_count": 13,
     "metadata": {},
     "output_type": "execute_result"
    }
   ],
   "source": [
    "np.std(v)"
   ],
   "metadata": {
    "collapsed": false,
    "ExecuteTime": {
     "end_time": "2024-02-20T20:46:37.956355900Z",
     "start_time": "2024-02-20T20:46:37.898549700Z"
    }
   },
   "id": "bda2f3563c5db524",
   "execution_count": 13
  },
  {
   "cell_type": "code",
   "outputs": [],
   "source": [
    "# A variância de uma variável aleatória é uma medida da sua dispersão indicando\n",
    "#o quanto os valores estão longe do esperado"
   ],
   "metadata": {
    "collapsed": false,
    "ExecuteTime": {
     "end_time": "2024-02-20T20:47:44.219060100Z",
     "start_time": "2024-02-20T20:47:44.185065300Z"
    }
   },
   "id": "6f996b3e39bec1c3",
   "execution_count": 14
  },
  {
   "cell_type": "code",
   "outputs": [
    {
     "data": {
      "text/plain": "3235.6"
     },
     "execution_count": 15,
     "metadata": {},
     "output_type": "execute_result"
    }
   ],
   "source": [
    "np.var(v)"
   ],
   "metadata": {
    "collapsed": false,
    "ExecuteTime": {
     "end_time": "2024-02-20T20:48:11.829547Z",
     "start_time": "2024-02-20T20:48:11.657710800Z"
    }
   },
   "id": "bda8dbdcb482243c",
   "execution_count": 15
  },
  {
   "cell_type": "code",
   "outputs": [],
   "source": [
    "# Podemos fazer o somatório dos números do array com sum()"
   ],
   "metadata": {
    "collapsed": false,
    "ExecuteTime": {
     "end_time": "2024-02-20T20:48:26.038234500Z",
     "start_time": "2024-02-20T20:48:25.976236800Z"
    }
   },
   "id": "39b52521ccaacd57",
   "execution_count": 16
  },
  {
   "cell_type": "code",
   "outputs": [
    {
     "data": {
      "text/plain": "400"
     },
     "execution_count": 17,
     "metadata": {},
     "output_type": "execute_result"
    }
   ],
   "source": [
    "np.sum(v)"
   ],
   "metadata": {
    "collapsed": false,
    "ExecuteTime": {
     "end_time": "2024-02-20T20:48:33.121587800Z",
     "start_time": "2024-02-20T20:48:33.069545100Z"
    }
   },
   "id": "b2c8284d4fde49b6",
   "execution_count": 17
  },
  {
   "cell_type": "code",
   "outputs": [],
   "source": [
    "# Para retornar o produto dos elementos"
   ],
   "metadata": {
    "collapsed": false,
    "ExecuteTime": {
     "end_time": "2024-02-20T20:49:27.080978800Z",
     "start_time": "2024-02-20T20:49:27.062030400Z"
    }
   },
   "id": "89dc35f3e5ca1e3",
   "execution_count": 18
  },
  {
   "cell_type": "code",
   "outputs": [
    {
     "ename": "NameError",
     "evalue": "name 'V' is not defined",
     "output_type": "error",
     "traceback": [
      "\u001B[1;31m---------------------------------------------------------------------------\u001B[0m",
      "\u001B[1;31mNameError\u001B[0m                                 Traceback (most recent call last)",
      "Cell \u001B[1;32mIn[19], line 1\u001B[0m\n\u001B[1;32m----> 1\u001B[0m np\u001B[38;5;241m.\u001B[39mprod(V)\n",
      "\u001B[1;31mNameError\u001B[0m: name 'V' is not defined"
     ]
    }
   ],
   "source": [
    "np.prod(V)"
   ],
   "metadata": {
    "collapsed": false,
    "ExecuteTime": {
     "end_time": "2024-02-20T20:49:39.725578800Z",
     "start_time": "2024-02-20T20:49:34.039111900Z"
    }
   },
   "id": "c4af70d883fa4b0a",
   "execution_count": 19
  },
  {
   "cell_type": "code",
   "outputs": [
    {
     "data": {
      "text/plain": "505050000"
     },
     "execution_count": 20,
     "metadata": {},
     "output_type": "execute_result"
    }
   ],
   "source": [
    "np.prod(v)"
   ],
   "metadata": {
    "collapsed": false,
    "ExecuteTime": {
     "end_time": "2024-02-20T20:49:54.574267900Z",
     "start_time": "2024-02-20T20:49:54.360013800Z"
    }
   },
   "id": "288bedf5aa710a58",
   "execution_count": 20
  },
  {
   "cell_type": "code",
   "outputs": [],
   "source": [
    "# Para criar um conjunto (10x2) de uma distribuição normal usamos randn()"
   ],
   "metadata": {
    "collapsed": false,
    "ExecuteTime": {
     "end_time": "2024-02-20T20:50:11.000247300Z",
     "start_time": "2024-02-20T20:50:10.942251800Z"
    }
   },
   "id": "367e1e6ca28ae291",
   "execution_count": 21
  },
  {
   "cell_type": "code",
   "outputs": [],
   "source": [
    "v1 = np.random.randn(10,2)"
   ],
   "metadata": {
    "collapsed": false,
    "ExecuteTime": {
     "end_time": "2024-02-20T20:50:32.746924900Z",
     "start_time": "2024-02-20T20:50:32.657928300Z"
    }
   },
   "id": "d8947550c2bb7739",
   "execution_count": 22
  },
  {
   "cell_type": "code",
   "outputs": [
    {
     "name": "stdout",
     "output_type": "stream",
     "text": [
      "[[-1.45466509 -1.99968125]\n",
      " [-0.55659897 -0.6314242 ]\n",
      " [-0.07665824 -1.48656422]\n",
      " [ 0.72963002 -2.30186206]\n",
      " [ 0.64298385  0.01269328]\n",
      " [-1.32988236  0.01856889]\n",
      " [-1.90136442 -0.86043082]\n",
      " [ 0.84775457  1.69691558]\n",
      " [-1.77525013  0.43971944]\n",
      " [-1.51851844  3.00853623]]\n"
     ]
    }
   ],
   "source": [
    "print(v1)"
   ],
   "metadata": {
    "collapsed": false,
    "ExecuteTime": {
     "end_time": "2024-02-20T20:50:51.078343400Z",
     "start_time": "2024-02-20T20:50:50.604802Z"
    }
   },
   "id": "1a910f71d955d66d",
   "execution_count": 23
  },
  {
   "cell_type": "code",
   "outputs": [],
   "source": [
    "# Vamos ver algumas funções para fatiamento dos dados"
   ],
   "metadata": {
    "collapsed": false,
    "ExecuteTime": {
     "end_time": "2024-02-20T20:52:38.457443800Z",
     "start_time": "2024-02-20T20:52:38.373442700Z"
    }
   },
   "id": "9db2974324a6085f",
   "execution_count": 24
  },
  {
   "cell_type": "code",
   "outputs": [],
   "source": [
    "v2 = np.arange(10)"
   ],
   "metadata": {
    "collapsed": false,
    "ExecuteTime": {
     "end_time": "2024-02-20T20:52:52.495361500Z",
     "start_time": "2024-02-20T20:52:52.370417600Z"
    }
   },
   "id": "3fe5ab2989f5fead",
   "execution_count": 25
  },
  {
   "cell_type": "code",
   "outputs": [
    {
     "name": "stdout",
     "output_type": "stream",
     "text": [
      "[0 1 2 3 4 5 6 7 8 9]\n"
     ]
    }
   ],
   "source": [
    "print(v2)"
   ],
   "metadata": {
    "collapsed": false,
    "ExecuteTime": {
     "end_time": "2024-02-20T20:52:59.638372900Z",
     "start_time": "2024-02-20T20:52:59.333623100Z"
    }
   },
   "id": "9933cc3e5fe29418",
   "execution_count": 26
  },
  {
   "cell_type": "code",
   "outputs": [],
   "source": [
    "v2 = np.arange(10,10)"
   ],
   "metadata": {
    "collapsed": false,
    "ExecuteTime": {
     "end_time": "2024-02-20T20:53:20.101425900Z",
     "start_time": "2024-02-20T20:53:20.011407900Z"
    }
   },
   "id": "298e334400a8ca89",
   "execution_count": 27
  },
  {
   "cell_type": "code",
   "outputs": [
    {
     "name": "stdout",
     "output_type": "stream",
     "text": [
      "[]\n"
     ]
    }
   ],
   "source": [
    "print(v2)"
   ],
   "metadata": {
    "collapsed": false,
    "ExecuteTime": {
     "end_time": "2024-02-20T20:53:29.541788Z",
     "start_time": "2024-02-20T20:53:29.295395900Z"
    }
   },
   "id": "a05a255598a7756f",
   "execution_count": 28
  },
  {
   "cell_type": "code",
   "outputs": [],
   "source": [
    "v3 = np.arange(10,10)"
   ],
   "metadata": {
    "collapsed": false,
    "ExecuteTime": {
     "end_time": "2024-02-20T20:53:48.746383400Z",
     "start_time": "2024-02-20T20:53:48.456516400Z"
    }
   },
   "id": "c2adb6924b416b9b",
   "execution_count": 29
  },
  {
   "cell_type": "code",
   "outputs": [
    {
     "name": "stdout",
     "output_type": "stream",
     "text": [
      "[]\n"
     ]
    }
   ],
   "source": [
    "print(v3)"
   ],
   "metadata": {
    "collapsed": false,
    "ExecuteTime": {
     "end_time": "2024-02-20T20:53:56.507775300Z",
     "start_time": "2024-02-20T20:53:56.361774100Z"
    }
   },
   "id": "d8771a526b4dc80a",
   "execution_count": 30
  },
  {
   "cell_type": "code",
   "outputs": [
    {
     "data": {
      "text/plain": "array([], dtype=int32)"
     },
     "execution_count": 31,
     "metadata": {},
     "output_type": "execute_result"
    }
   ],
   "source": [
    "v3"
   ],
   "metadata": {
    "collapsed": false,
    "ExecuteTime": {
     "end_time": "2024-02-20T20:53:59.613809800Z",
     "start_time": "2024-02-20T20:53:59.541633700Z"
    }
   },
   "id": "867662c5e88148a2",
   "execution_count": 31
  },
  {
   "cell_type": "code",
   "outputs": [],
   "source": [
    "v2 = np.arange(10)"
   ],
   "metadata": {
    "collapsed": false,
    "ExecuteTime": {
     "end_time": "2024-02-20T20:54:23.890741100Z",
     "start_time": "2024-02-20T20:54:23.819580600Z"
    }
   },
   "id": "452f4a2b6355031e",
   "execution_count": 32
  },
  {
   "cell_type": "code",
   "outputs": [
    {
     "name": "stdout",
     "output_type": "stream",
     "text": [
      "[0 1 2 3 4 5 6 7 8 9]\n"
     ]
    }
   ],
   "source": [
    "print(v2)"
   ],
   "metadata": {
    "collapsed": false,
    "ExecuteTime": {
     "end_time": "2024-02-20T20:54:29.494629Z",
     "start_time": "2024-02-20T20:54:29.381838300Z"
    }
   },
   "id": "18bfd37aee9aa453",
   "execution_count": 33
  },
  {
   "cell_type": "code",
   "outputs": [],
   "source": [
    "# Podemos fatiar o array usando [start:end:step]"
   ],
   "metadata": {
    "collapsed": false,
    "ExecuteTime": {
     "end_time": "2024-02-20T20:54:38.537111300Z",
     "start_time": "2024-02-20T20:54:38.425112100Z"
    }
   },
   "id": "73558229875fe5b3",
   "execution_count": 34
  },
  {
   "cell_type": "code",
   "outputs": [
    {
     "data": {
      "text/plain": "array([1, 3, 5, 7])"
     },
     "execution_count": 35,
     "metadata": {},
     "output_type": "execute_result"
    }
   ],
   "source": [
    "v2[1:9:2]"
   ],
   "metadata": {
    "collapsed": false,
    "ExecuteTime": {
     "end_time": "2024-02-20T20:55:11.101655Z",
     "start_time": "2024-02-20T20:55:11.025842900Z"
    }
   },
   "id": "1725e1618a7fbe03",
   "execution_count": 35
  },
  {
   "cell_type": "code",
   "outputs": [
    {
     "name": "stdout",
     "output_type": "stream",
     "text": [
      "[1 3 5 7]\n"
     ]
    }
   ],
   "source": [
    "print(v2[1:9:2])"
   ],
   "metadata": {
    "collapsed": false,
    "ExecuteTime": {
     "end_time": "2024-02-20T20:55:52.639548700Z",
     "start_time": "2024-02-20T20:55:52.505601700Z"
    }
   },
   "id": "dbbde64cdb63ec97",
   "execution_count": 36
  },
  {
   "cell_type": "code",
   "outputs": [],
   "source": [
    "# Os vetores podem ser comparados com “==”, é comparado cada valor"
   ],
   "metadata": {
    "collapsed": false,
    "ExecuteTime": {
     "end_time": "2024-02-20T20:56:13.392279Z",
     "start_time": "2024-02-20T20:56:13.283282100Z"
    }
   },
   "id": "a6f20984d19cb79d",
   "execution_count": 37
  },
  {
   "cell_type": "code",
   "outputs": [],
   "source": [
    "v3 = np.array([2, 2, 3, 1])\n",
    "v4 = np.array([4, 5, 3, 1])"
   ],
   "metadata": {
    "collapsed": false,
    "ExecuteTime": {
     "end_time": "2024-02-20T20:56:23.030472500Z",
     "start_time": "2024-02-20T20:56:22.916570Z"
    }
   },
   "id": "9c5c829b1a7b16e2",
   "execution_count": 38
  },
  {
   "cell_type": "code",
   "outputs": [
    {
     "data": {
      "text/plain": "array([False, False,  True,  True])"
     },
     "execution_count": 39,
     "metadata": {},
     "output_type": "execute_result"
    }
   ],
   "source": [
    "v3 == v4"
   ],
   "metadata": {
    "collapsed": false,
    "ExecuteTime": {
     "end_time": "2024-02-20T20:56:37.462406300Z",
     "start_time": "2024-02-20T20:56:37.332214300Z"
    }
   },
   "id": "c1055aeb2d59c02a",
   "execution_count": 39
  },
  {
   "cell_type": "code",
   "outputs": [
    {
     "name": "stdout",
     "output_type": "stream",
     "text": [
      "[False False  True  True]\n"
     ]
    }
   ],
   "source": [
    "print(v3 == v4)"
   ],
   "metadata": {
    "collapsed": false,
    "ExecuteTime": {
     "end_time": "2024-02-20T20:56:57.363967500Z",
     "start_time": "2024-02-20T20:56:57.171562700Z"
    }
   },
   "id": "48da5460ca9e4531",
   "execution_count": 40
  },
  {
   "cell_type": "code",
   "outputs": [],
   "source": [],
   "metadata": {
    "collapsed": false
   },
   "id": "66d14e075cd5934f"
  }
 ],
 "metadata": {
  "kernelspec": {
   "display_name": "Python 3 (ipykernel)",
   "language": "python",
   "name": "python3"
  },
  "language_info": {
   "codemirror_mode": {
    "name": "ipython",
    "version": 3
   },
   "file_extension": ".py",
   "mimetype": "text/x-python",
   "name": "python",
   "nbconvert_exporter": "python",
   "pygments_lexer": "ipython3",
   "version": "3.11.5"
  }
 },
 "nbformat": 4,
 "nbformat_minor": 5
}
