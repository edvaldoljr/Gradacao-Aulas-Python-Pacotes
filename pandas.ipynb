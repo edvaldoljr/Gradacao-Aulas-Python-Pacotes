{
 "cells": [
  {
   "cell_type": "code",
   "execution_count": 47,
   "id": "ca29e94c",
   "metadata": {},
   "outputs": [],
   "source": [
    "import numpy as np"
   ]
  },
  {
   "cell_type": "code",
   "execution_count": 46,
   "id": "f633c944",
   "metadata": {},
   "outputs": [],
   "source": [
    "#Panda pacote que manipula planilhas.\n",
    "#ou tabelas\n",
    "import pandas as pd"
   ]
  },
  {
   "cell_type": "code",
   "execution_count": 14,
   "id": "84d0ad74",
   "metadata": {},
   "outputs": [],
   "source": [
    "#Criando series\n",
    "#Uma serie é um array unidimensional composto por labels e dados\n",
    "#Podemos criar uma serie sem label\n",
    "s1 = pd.Series([23, 77, 0, 5, 12])"
   ]
  },
  {
   "cell_type": "code",
   "execution_count": 8,
   "id": "5b5a7d66",
   "metadata": {},
   "outputs": [
    {
     "name": "stdout",
     "output_type": "stream",
     "text": [
      "0    23\n",
      "1    77\n",
      "2     0\n",
      "3     5\n",
      "4    12\n",
      "dtype: int64\n"
     ]
    }
   ],
   "source": [
    "print(s1)"
   ]
  },
  {
   "cell_type": "code",
   "execution_count": 9,
   "id": "31ce4af0",
   "metadata": {},
   "outputs": [
    {
     "data": {
      "text/plain": [
       "0    23\n",
       "1    77\n",
       "2     0\n",
       "3     5\n",
       "4    12\n",
       "dtype: int64"
      ]
     },
     "execution_count": 9,
     "metadata": {},
     "output_type": "execute_result"
    }
   ],
   "source": [
    "s1"
   ]
  },
  {
   "cell_type": "code",
   "execution_count": 15,
   "id": "590b7513",
   "metadata": {},
   "outputs": [
    {
     "data": {
      "text/plain": [
       "array([23, 77,  0,  5, 12], dtype=int64)"
      ]
     },
     "execution_count": 15,
     "metadata": {},
     "output_type": "execute_result"
    }
   ],
   "source": [
    "#Caso queremos verificar os valores da seirie, usamos a propriedade values\n",
    "s1.values"
   ]
  },
  {
   "cell_type": "code",
   "execution_count": 12,
   "id": "eacfe49d",
   "metadata": {},
   "outputs": [
    {
     "name": "stdout",
     "output_type": "stream",
     "text": [
      "[23 77  0  5 12]\n"
     ]
    }
   ],
   "source": [
    "print(s1.values)"
   ]
  },
  {
   "cell_type": "code",
   "execution_count": 13,
   "id": "dc033524",
   "metadata": {},
   "outputs": [
    {
     "data": {
      "text/plain": [
       "RangeIndex(start=0, stop=5, step=1)"
      ]
     },
     "execution_count": 13,
     "metadata": {},
     "output_type": "execute_result"
    }
   ],
   "source": [
    "# Caso queira ferificar o indices da serie\n",
    "s1.index"
   ]
  },
  {
   "cell_type": "code",
   "execution_count": 16,
   "id": "f9ff8fac",
   "metadata": {},
   "outputs": [
    {
     "name": "stdout",
     "output_type": "stream",
     "text": [
      "RangeIndex(start=0, stop=5, step=1)\n"
     ]
    }
   ],
   "source": [
    "print(s1.index)"
   ]
  },
  {
   "cell_type": "code",
   "execution_count": 17,
   "id": "53134d27",
   "metadata": {},
   "outputs": [
    {
     "data": {
      "text/plain": [
       "A    23\n",
       "B    77\n",
       "C     0\n",
       "D     5\n",
       "E    12\n",
       "dtype: int64"
      ]
     },
     "execution_count": 17,
     "metadata": {},
     "output_type": "execute_result"
    }
   ],
   "source": [
    "#Para criar uma serie e especificar os seus indices devemos passar cada dos rótulos\n",
    "s2 = pd.Series([23, 77, 0, 5, 12], index = ['A','B','C','D','E'])\n",
    "s2"
   ]
  },
  {
   "cell_type": "code",
   "execution_count": 20,
   "id": "04bbf5bb",
   "metadata": {},
   "outputs": [
    {
     "name": "stdout",
     "output_type": "stream",
     "text": [
      "Index(['A', 'B', 'C', 'D', 'E'], dtype='object')\n"
     ]
    }
   ],
   "source": [
    "#Ver os index\n",
    "print(s2.index)"
   ]
  },
  {
   "cell_type": "code",
   "execution_count": 21,
   "id": "c6624e18",
   "metadata": {},
   "outputs": [
    {
     "data": {
      "text/plain": [
       "A    23\n",
       "B    77\n",
       "dtype: int64"
      ]
     },
     "execution_count": 21,
     "metadata": {},
     "output_type": "execute_result"
    }
   ],
   "source": [
    "#Para fatiar a serie, podemos usar\n",
    "s2[:2]"
   ]
  },
  {
   "cell_type": "code",
   "execution_count": 22,
   "id": "8eb59e58",
   "metadata": {},
   "outputs": [
    {
     "data": {
      "text/plain": [
       "A    23\n",
       "B    77\n",
       "C     0\n",
       "dtype: int64"
      ]
     },
     "execution_count": 22,
     "metadata": {},
     "output_type": "execute_result"
    }
   ],
   "source": [
    "#Para fatiar a serie, podemos usar\n",
    "s2[:3]"
   ]
  },
  {
   "cell_type": "code",
   "execution_count": 24,
   "id": "2860583f",
   "metadata": {},
   "outputs": [
    {
     "data": {
      "text/plain": [
       "A    23\n",
       "B    77\n",
       "dtype: int64"
      ]
     },
     "execution_count": 24,
     "metadata": {},
     "output_type": "execute_result"
    }
   ],
   "source": [
    "# Podemos ainda usar expressões com operadores relacionais\n",
    "# Um exemplo é retornar os elementos maiores que 20\n",
    "s2[s2>20]"
   ]
  },
  {
   "cell_type": "code",
   "execution_count": 25,
   "id": "8615b7af",
   "metadata": {},
   "outputs": [
    {
     "data": {
      "text/plain": [
       "C    0\n",
       "D    5\n",
       "dtype: int64"
      ]
     },
     "execution_count": 25,
     "metadata": {},
     "output_type": "execute_result"
    }
   ],
   "source": [
    "s2[s2<=10]"
   ]
  },
  {
   "cell_type": "code",
   "execution_count": 26,
   "id": "16429614",
   "metadata": {},
   "outputs": [
    {
     "data": {
      "text/plain": [
       "A    23\n",
       "B    77\n",
       "E    12\n",
       "dtype: int64"
      ]
     },
     "execution_count": 26,
     "metadata": {},
     "output_type": "execute_result"
    }
   ],
   "source": [
    "s2[s2>=10]"
   ]
  },
  {
   "cell_type": "code",
   "execution_count": 27,
   "id": "9597401a",
   "metadata": {},
   "outputs": [
    {
     "data": {
      "text/plain": [
       "23"
      ]
     },
     "execution_count": 27,
     "metadata": {},
     "output_type": "execute_result"
    }
   ],
   "source": [
    "# Para trabalhar com uma posição específica da serie, devemos especificar o\n",
    "#seu index que pode ser um label ou um índice numérico do array\n",
    "s2['A']"
   ]
  },
  {
   "cell_type": "code",
   "execution_count": 28,
   "id": "a8d4d167",
   "metadata": {},
   "outputs": [
    {
     "data": {
      "text/plain": [
       "23"
      ]
     },
     "execution_count": 28,
     "metadata": {},
     "output_type": "execute_result"
    }
   ],
   "source": [
    "s2[0]"
   ]
  },
  {
   "cell_type": "code",
   "execution_count": 31,
   "id": "558e516a",
   "metadata": {},
   "outputs": [
    {
     "data": {
      "text/plain": [
       "100"
      ]
     },
     "execution_count": 31,
     "metadata": {},
     "output_type": "execute_result"
    }
   ],
   "source": [
    "# Para alterar o valor de uma posição\n",
    "s2['A']=100\n",
    "s2[0]"
   ]
  },
  {
   "cell_type": "code",
   "execution_count": 33,
   "id": "b4b1d8d2",
   "metadata": {},
   "outputs": [
    {
     "name": "stdout",
     "output_type": "stream",
     "text": [
      "A    100\n",
      "B     77\n",
      "C      0\n",
      "D      5\n",
      "E     12\n",
      "dtype: int64\n"
     ]
    }
   ],
   "source": [
    "print(s2)"
   ]
  },
  {
   "cell_type": "code",
   "execution_count": 35,
   "id": "840d4f9e",
   "metadata": {},
   "outputs": [
    {
     "data": {
      "text/plain": [
       "A    23.0\n",
       "B    77.0\n",
       "C     0.0\n",
       "D     5.0\n",
       "E    12.0\n",
       "F     NaN\n",
       "dtype: float64"
      ]
     },
     "execution_count": 35,
     "metadata": {},
     "output_type": "execute_result"
    }
   ],
   "source": [
    "# Imagine que temos uma série faltando valor\n",
    "s3 = pd.Series([23, 77, 0, 5, 12,np.NaN], index = ['A', 'B', 'C', 'D', 'E','F'])\n",
    "s3"
   ]
  },
  {
   "cell_type": "code",
   "execution_count": 36,
   "id": "0cd90d70",
   "metadata": {},
   "outputs": [
    {
     "data": {
      "text/plain": [
       "A    False\n",
       "B    False\n",
       "C    False\n",
       "D    False\n",
       "E    False\n",
       "dtype: bool"
      ]
     },
     "execution_count": 36,
     "metadata": {},
     "output_type": "execute_result"
    }
   ],
   "source": [
    "# Podemos verificar se existem dados faltantes ou se os dados são nulos\n",
    "pd.isnull(s2)"
   ]
  },
  {
   "cell_type": "code",
   "execution_count": 37,
   "id": "fa7291fe",
   "metadata": {},
   "outputs": [
    {
     "data": {
      "text/plain": [
       "A    False\n",
       "B    False\n",
       "C    False\n",
       "D    False\n",
       "E    False\n",
       "F     True\n",
       "dtype: bool"
      ]
     },
     "execution_count": 37,
     "metadata": {},
     "output_type": "execute_result"
    }
   ],
   "source": [
    "pd.isnull(s3)"
   ]
  },
  {
   "cell_type": "code",
   "execution_count": 38,
   "id": "0a9a10e1",
   "metadata": {},
   "outputs": [
    {
     "data": {
      "text/plain": [
       "A     True\n",
       "B     True\n",
       "C     True\n",
       "D     True\n",
       "E     True\n",
       "F    False\n",
       "dtype: bool"
      ]
     },
     "execution_count": 38,
     "metadata": {},
     "output_type": "execute_result"
    }
   ],
   "source": [
    "# Podemos também fazer o oposto, verificando qual não é nulo\n",
    "pd.notnull(s3)"
   ]
  },
  {
   "cell_type": "code",
   "execution_count": 39,
   "id": "6192e1cb",
   "metadata": {},
   "outputs": [],
   "source": [
    "s4 = s2 + s3"
   ]
  },
  {
   "cell_type": "code",
   "execution_count": 41,
   "id": "9c7415d2",
   "metadata": {},
   "outputs": [
    {
     "data": {
      "text/plain": [
       "A    123.0\n",
       "B    154.0\n",
       "C      0.0\n",
       "D     10.0\n",
       "E     24.0\n",
       "F      NaN\n",
       "dtype: float64"
      ]
     },
     "execution_count": 41,
     "metadata": {},
     "output_type": "execute_result"
    }
   ],
   "source": [
    "# Analise a saída dessa concatenação\n",
    "s4"
   ]
  },
  {
   "cell_type": "code",
   "execution_count": 42,
   "id": "542d1aac",
   "metadata": {},
   "outputs": [],
   "source": [
    "# Dataframes possuem index e linhas semelhantes a uma planilha\n",
    "# Inicialmente criaremos um dicionário\n",
    "dados= {'Ano':[2014, 2015, 2016, 2017, 2018, 2019], 'Pais':['EUA', 'China', 'Brasil', 'Canada', 'Portugal', 'Espanha'], 'Vendas':[50, 60, 70, 40, 10, 88]}"
   ]
  },
  {
   "cell_type": "code",
   "execution_count": 59,
   "id": "233bd096",
   "metadata": {},
   "outputs": [
    {
     "data": {
      "text/html": [
       "<div>\n",
       "<style scoped>\n",
       "    .dataframe tbody tr th:only-of-type {\n",
       "        vertical-align: middle;\n",
       "    }\n",
       "\n",
       "    .dataframe tbody tr th {\n",
       "        vertical-align: top;\n",
       "    }\n",
       "\n",
       "    .dataframe thead th {\n",
       "        text-align: right;\n",
       "    }\n",
       "</style>\n",
       "<table border=\"1\" class=\"dataframe\">\n",
       "  <thead>\n",
       "    <tr style=\"text-align: right;\">\n",
       "      <th></th>\n",
       "      <th>Ano</th>\n",
       "      <th>Pais</th>\n",
       "      <th>Vendas</th>\n",
       "    </tr>\n",
       "  </thead>\n",
       "  <tbody>\n",
       "    <tr>\n",
       "      <th>0</th>\n",
       "      <td>2014</td>\n",
       "      <td>EUA</td>\n",
       "      <td>50</td>\n",
       "    </tr>\n",
       "    <tr>\n",
       "      <th>1</th>\n",
       "      <td>2015</td>\n",
       "      <td>China</td>\n",
       "      <td>60</td>\n",
       "    </tr>\n",
       "    <tr>\n",
       "      <th>2</th>\n",
       "      <td>2016</td>\n",
       "      <td>Brasil</td>\n",
       "      <td>70</td>\n",
       "    </tr>\n",
       "    <tr>\n",
       "      <th>3</th>\n",
       "      <td>2017</td>\n",
       "      <td>Canada</td>\n",
       "      <td>40</td>\n",
       "    </tr>\n",
       "    <tr>\n",
       "      <th>4</th>\n",
       "      <td>2018</td>\n",
       "      <td>Portugal</td>\n",
       "      <td>10</td>\n",
       "    </tr>\n",
       "    <tr>\n",
       "      <th>5</th>\n",
       "      <td>2019</td>\n",
       "      <td>Espanha</td>\n",
       "      <td>88</td>\n",
       "    </tr>\n",
       "  </tbody>\n",
       "</table>\n",
       "</div>"
      ],
      "text/plain": [
       "    Ano      Pais  Vendas\n",
       "0  2014       EUA      50\n",
       "1  2015     China      60\n",
       "2  2016    Brasil      70\n",
       "3  2017    Canada      40\n",
       "4  2018  Portugal      10\n",
       "5  2019   Espanha      88"
      ]
     },
     "execution_count": 59,
     "metadata": {},
     "output_type": "execute_result"
    }
   ],
   "source": [
    "# Podemos criar um dataframe a partir desse dicionário\n",
    "df = pd.DataFrame(dados)\n",
    "df"
   ]
  },
  {
   "cell_type": "code",
   "execution_count": 76,
   "id": "0d29e8e8",
   "metadata": {},
   "outputs": [
    {
     "data": {
      "text/html": [
       "<div>\n",
       "<style scoped>\n",
       "    .dataframe tbody tr th:only-of-type {\n",
       "        vertical-align: middle;\n",
       "    }\n",
       "\n",
       "    .dataframe tbody tr th {\n",
       "        vertical-align: top;\n",
       "    }\n",
       "\n",
       "    .dataframe thead th {\n",
       "        text-align: right;\n",
       "    }\n",
       "</style>\n",
       "<table border=\"1\" class=\"dataframe\">\n",
       "  <thead>\n",
       "    <tr style=\"text-align: right;\">\n",
       "      <th></th>\n",
       "      <th>Ano</th>\n",
       "      <th>Pais</th>\n",
       "      <th>Vendas</th>\n",
       "      <th>Valores</th>\n",
       "    </tr>\n",
       "  </thead>\n",
       "  <tbody>\n",
       "    <tr>\n",
       "      <th>A</th>\n",
       "      <td>2014</td>\n",
       "      <td>EUA</td>\n",
       "      <td>50</td>\n",
       "      <td>NaN</td>\n",
       "    </tr>\n",
       "    <tr>\n",
       "      <th>B</th>\n",
       "      <td>2015</td>\n",
       "      <td>China</td>\n",
       "      <td>60</td>\n",
       "      <td>NaN</td>\n",
       "    </tr>\n",
       "    <tr>\n",
       "      <th>C</th>\n",
       "      <td>2016</td>\n",
       "      <td>Brasil</td>\n",
       "      <td>70</td>\n",
       "      <td>NaN</td>\n",
       "    </tr>\n",
       "    <tr>\n",
       "      <th>D</th>\n",
       "      <td>2017</td>\n",
       "      <td>Canada</td>\n",
       "      <td>40</td>\n",
       "      <td>NaN</td>\n",
       "    </tr>\n",
       "    <tr>\n",
       "      <th>E</th>\n",
       "      <td>2018</td>\n",
       "      <td>Portugal</td>\n",
       "      <td>10</td>\n",
       "      <td>NaN</td>\n",
       "    </tr>\n",
       "    <tr>\n",
       "      <th>F</th>\n",
       "      <td>2019</td>\n",
       "      <td>Espanha</td>\n",
       "      <td>88</td>\n",
       "      <td>NaN</td>\n",
       "    </tr>\n",
       "  </tbody>\n",
       "</table>\n",
       "</div>"
      ],
      "text/plain": [
       "    Ano      Pais  Vendas Valores\n",
       "A  2014       EUA      50     NaN\n",
       "B  2015     China      60     NaN\n",
       "C  2016    Brasil      70     NaN\n",
       "D  2017    Canada      40     NaN\n",
       "E  2018  Portugal      10     NaN\n",
       "F  2019   Espanha      88     NaN"
      ]
     },
     "execution_count": 76,
     "metadata": {},
     "output_type": "execute_result"
    }
   ],
   "source": [
    "#Podemos adicionar colunas que não existem no dicionária quando criarmos o dataFrame, lembrando que esses dados serão nulos.\n",
    "df2 = pd.DataFrame(dados, columns = ['Ano', 'Pais', 'Vendas', 'Valores'], index = ['A', 'B', 'C', 'D', 'E','F'] )\n",
    "df2"
   ]
  },
  {
   "cell_type": "code",
   "execution_count": 68,
   "id": "30af1b75",
   "metadata": {},
   "outputs": [
    {
     "data": {
      "text/html": [
       "<div>\n",
       "<style scoped>\n",
       "    .dataframe tbody tr th:only-of-type {\n",
       "        vertical-align: middle;\n",
       "    }\n",
       "\n",
       "    .dataframe tbody tr th {\n",
       "        vertical-align: top;\n",
       "    }\n",
       "\n",
       "    .dataframe thead th {\n",
       "        text-align: right;\n",
       "    }\n",
       "</style>\n",
       "<table border=\"1\" class=\"dataframe\">\n",
       "  <thead>\n",
       "    <tr style=\"text-align: right;\">\n",
       "      <th></th>\n",
       "      <th>Ano</th>\n",
       "      <th>Pais</th>\n",
       "      <th>Vendas</th>\n",
       "      <th>Valores</th>\n",
       "    </tr>\n",
       "  </thead>\n",
       "  <tbody>\n",
       "    <tr>\n",
       "      <th>A</th>\n",
       "      <td>2014</td>\n",
       "      <td>EUA</td>\n",
       "      <td>50</td>\n",
       "      <td>100</td>\n",
       "    </tr>\n",
       "    <tr>\n",
       "      <th>B</th>\n",
       "      <td>2015</td>\n",
       "      <td>China</td>\n",
       "      <td>60</td>\n",
       "      <td>NaN</td>\n",
       "    </tr>\n",
       "    <tr>\n",
       "      <th>C</th>\n",
       "      <td>2016</td>\n",
       "      <td>Brasil</td>\n",
       "      <td>70</td>\n",
       "      <td>NaN</td>\n",
       "    </tr>\n",
       "    <tr>\n",
       "      <th>D</th>\n",
       "      <td>2017</td>\n",
       "      <td>Canada</td>\n",
       "      <td>40</td>\n",
       "      <td>NaN</td>\n",
       "    </tr>\n",
       "    <tr>\n",
       "      <th>E</th>\n",
       "      <td>2018</td>\n",
       "      <td>Portugal</td>\n",
       "      <td>10</td>\n",
       "      <td>NaN</td>\n",
       "    </tr>\n",
       "    <tr>\n",
       "      <th>F</th>\n",
       "      <td>2019</td>\n",
       "      <td>Espanha</td>\n",
       "      <td>88</td>\n",
       "      <td>NaN</td>\n",
       "    </tr>\n",
       "  </tbody>\n",
       "</table>\n",
       "</div>"
      ],
      "text/plain": [
       "    Ano      Pais  Vendas Valores\n",
       "A  2014       EUA      50     100\n",
       "B  2015     China      60     NaN\n",
       "C  2016    Brasil      70     NaN\n",
       "D  2017    Canada      40     NaN\n",
       "E  2018  Portugal      10     NaN\n",
       "F  2019   Espanha      88     NaN"
      ]
     },
     "execution_count": 68,
     "metadata": {},
     "output_type": "execute_result"
    }
   ],
   "source": [
    "#Inserindo dados na coluna valores\n",
    "#Neste exemplo, a função loc é usada para acessar os valores específicos na coluna Valores para os índices A\n",
    "df2.loc['A', 'Valores'] = 100\n",
    "df2"
   ]
  },
  {
   "cell_type": "code",
   "execution_count": 69,
   "id": "5e7a7ffd",
   "metadata": {},
   "outputs": [
    {
     "data": {
      "text/html": [
       "<div>\n",
       "<style scoped>\n",
       "    .dataframe tbody tr th:only-of-type {\n",
       "        vertical-align: middle;\n",
       "    }\n",
       "\n",
       "    .dataframe tbody tr th {\n",
       "        vertical-align: top;\n",
       "    }\n",
       "\n",
       "    .dataframe thead th {\n",
       "        text-align: right;\n",
       "    }\n",
       "</style>\n",
       "<table border=\"1\" class=\"dataframe\">\n",
       "  <thead>\n",
       "    <tr style=\"text-align: right;\">\n",
       "      <th></th>\n",
       "      <th>Ano</th>\n",
       "      <th>Pais</th>\n",
       "      <th>Vendas</th>\n",
       "      <th>Valores</th>\n",
       "    </tr>\n",
       "  </thead>\n",
       "  <tbody>\n",
       "    <tr>\n",
       "      <th>A</th>\n",
       "      <td>2014</td>\n",
       "      <td>EUA</td>\n",
       "      <td>50</td>\n",
       "      <td>150</td>\n",
       "    </tr>\n",
       "    <tr>\n",
       "      <th>B</th>\n",
       "      <td>2015</td>\n",
       "      <td>China</td>\n",
       "      <td>60</td>\n",
       "      <td>NaN</td>\n",
       "    </tr>\n",
       "    <tr>\n",
       "      <th>C</th>\n",
       "      <td>2016</td>\n",
       "      <td>Brasil</td>\n",
       "      <td>70</td>\n",
       "      <td>NaN</td>\n",
       "    </tr>\n",
       "    <tr>\n",
       "      <th>D</th>\n",
       "      <td>2017</td>\n",
       "      <td>Canada</td>\n",
       "      <td>40</td>\n",
       "      <td>NaN</td>\n",
       "    </tr>\n",
       "    <tr>\n",
       "      <th>E</th>\n",
       "      <td>2018</td>\n",
       "      <td>Portugal</td>\n",
       "      <td>10</td>\n",
       "      <td>NaN</td>\n",
       "    </tr>\n",
       "    <tr>\n",
       "      <th>F</th>\n",
       "      <td>2019</td>\n",
       "      <td>Espanha</td>\n",
       "      <td>88</td>\n",
       "      <td>NaN</td>\n",
       "    </tr>\n",
       "  </tbody>\n",
       "</table>\n",
       "</div>"
      ],
      "text/plain": [
       "    Ano      Pais  Vendas Valores\n",
       "A  2014       EUA      50     150\n",
       "B  2015     China      60     NaN\n",
       "C  2016    Brasil      70     NaN\n",
       "D  2017    Canada      40     NaN\n",
       "E  2018  Portugal      10     NaN\n",
       "F  2019   Espanha      88     NaN"
      ]
     },
     "execution_count": 69,
     "metadata": {},
     "output_type": "execute_result"
    }
   ],
   "source": [
    "#Neste exemplo, a função iat é usada para acessar os valores específicos na coluna Valores para as linhas 0.\n",
    "df2.iat[0,3] = 150\n",
    "df2"
   ]
  },
  {
   "cell_type": "code",
   "execution_count": 80,
   "id": "f942e90f",
   "metadata": {},
   "outputs": [
    {
     "data": {
      "text/html": [
       "<div>\n",
       "<style scoped>\n",
       "    .dataframe tbody tr th:only-of-type {\n",
       "        vertical-align: middle;\n",
       "    }\n",
       "\n",
       "    .dataframe tbody tr th {\n",
       "        vertical-align: top;\n",
       "    }\n",
       "\n",
       "    .dataframe thead th {\n",
       "        text-align: right;\n",
       "    }\n",
       "</style>\n",
       "<table border=\"1\" class=\"dataframe\">\n",
       "  <thead>\n",
       "    <tr style=\"text-align: right;\">\n",
       "      <th></th>\n",
       "      <th>Ano</th>\n",
       "      <th>Pais</th>\n",
       "      <th>Vendas</th>\n",
       "      <th>Valores</th>\n",
       "    </tr>\n",
       "  </thead>\n",
       "  <tbody>\n",
       "    <tr>\n",
       "      <th>A</th>\n",
       "      <td>2014</td>\n",
       "      <td>EUA</td>\n",
       "      <td>50</td>\n",
       "      <td>55.044198</td>\n",
       "    </tr>\n",
       "    <tr>\n",
       "      <th>B</th>\n",
       "      <td>2015</td>\n",
       "      <td>China</td>\n",
       "      <td>60</td>\n",
       "      <td>82.734383</td>\n",
       "    </tr>\n",
       "    <tr>\n",
       "      <th>C</th>\n",
       "      <td>2016</td>\n",
       "      <td>Brasil</td>\n",
       "      <td>70</td>\n",
       "      <td>71.773919</td>\n",
       "    </tr>\n",
       "    <tr>\n",
       "      <th>D</th>\n",
       "      <td>2017</td>\n",
       "      <td>Canada</td>\n",
       "      <td>40</td>\n",
       "      <td>96.647150</td>\n",
       "    </tr>\n",
       "    <tr>\n",
       "      <th>E</th>\n",
       "      <td>2018</td>\n",
       "      <td>Portugal</td>\n",
       "      <td>10</td>\n",
       "      <td>12.466890</td>\n",
       "    </tr>\n",
       "    <tr>\n",
       "      <th>F</th>\n",
       "      <td>2019</td>\n",
       "      <td>Espanha</td>\n",
       "      <td>88</td>\n",
       "      <td>6.671826</td>\n",
       "    </tr>\n",
       "  </tbody>\n",
       "</table>\n",
       "</div>"
      ],
      "text/plain": [
       "    Ano      Pais  Vendas    Valores\n",
       "A  2014       EUA      50  55.044198\n",
       "B  2015     China      60  82.734383\n",
       "C  2016    Brasil      70  71.773919\n",
       "D  2017    Canada      40  96.647150\n",
       "E  2018  Portugal      10  12.466890\n",
       "F  2019   Espanha      88   6.671826"
      ]
     },
     "execution_count": 80,
     "metadata": {},
     "output_type": "execute_result"
    }
   ],
   "source": [
    "#Agora, vejamos alguns exemplos juntando o Pandas e Numpy:\n",
    "# É possível usar o Numpy para preencher a coluna de nosso dataframe, denominada Valores e que inicialmente estava vazia\n",
    "# Preencheremos com valores randômicos \n",
    "df2['Valores'] = np.random.rand(6)*100\n",
    "df2"
   ]
  },
  {
   "cell_type": "code",
   "execution_count": 81,
   "id": "036dc8a9",
   "metadata": {},
   "outputs": [
    {
     "data": {
      "text/html": [
       "<div>\n",
       "<style scoped>\n",
       "    .dataframe tbody tr th:only-of-type {\n",
       "        vertical-align: middle;\n",
       "    }\n",
       "\n",
       "    .dataframe tbody tr th {\n",
       "        vertical-align: top;\n",
       "    }\n",
       "\n",
       "    .dataframe thead th {\n",
       "        text-align: right;\n",
       "    }\n",
       "</style>\n",
       "<table border=\"1\" class=\"dataframe\">\n",
       "  <thead>\n",
       "    <tr style=\"text-align: right;\">\n",
       "      <th></th>\n",
       "      <th>Ano</th>\n",
       "      <th>Vendas</th>\n",
       "      <th>Valores</th>\n",
       "    </tr>\n",
       "  </thead>\n",
       "  <tbody>\n",
       "    <tr>\n",
       "      <th>count</th>\n",
       "      <td>6.000000</td>\n",
       "      <td>6.000000</td>\n",
       "      <td>6.000000</td>\n",
       "    </tr>\n",
       "    <tr>\n",
       "      <th>mean</th>\n",
       "      <td>2016.500000</td>\n",
       "      <td>53.000000</td>\n",
       "      <td>54.223061</td>\n",
       "    </tr>\n",
       "    <tr>\n",
       "      <th>std</th>\n",
       "      <td>1.870829</td>\n",
       "      <td>26.795522</td>\n",
       "      <td>37.218553</td>\n",
       "    </tr>\n",
       "    <tr>\n",
       "      <th>min</th>\n",
       "      <td>2014.000000</td>\n",
       "      <td>10.000000</td>\n",
       "      <td>6.671826</td>\n",
       "    </tr>\n",
       "    <tr>\n",
       "      <th>25%</th>\n",
       "      <td>2015.250000</td>\n",
       "      <td>42.500000</td>\n",
       "      <td>23.111217</td>\n",
       "    </tr>\n",
       "    <tr>\n",
       "      <th>50%</th>\n",
       "      <td>2016.500000</td>\n",
       "      <td>55.000000</td>\n",
       "      <td>63.409059</td>\n",
       "    </tr>\n",
       "    <tr>\n",
       "      <th>75%</th>\n",
       "      <td>2017.750000</td>\n",
       "      <td>67.500000</td>\n",
       "      <td>79.994267</td>\n",
       "    </tr>\n",
       "    <tr>\n",
       "      <th>max</th>\n",
       "      <td>2019.000000</td>\n",
       "      <td>88.000000</td>\n",
       "      <td>96.647150</td>\n",
       "    </tr>\n",
       "  </tbody>\n",
       "</table>\n",
       "</div>"
      ],
      "text/plain": [
       "               Ano     Vendas    Valores\n",
       "count     6.000000   6.000000   6.000000\n",
       "mean   2016.500000  53.000000  54.223061\n",
       "std       1.870829  26.795522  37.218553\n",
       "min    2014.000000  10.000000   6.671826\n",
       "25%    2015.250000  42.500000  23.111217\n",
       "50%    2016.500000  55.000000  63.409059\n",
       "75%    2017.750000  67.500000  79.994267\n",
       "max    2019.000000  88.000000  96.647150"
      ]
     },
     "execution_count": 81,
     "metadata": {},
     "output_type": "execute_result"
    }
   ],
   "source": [
    "#Um método bem interessante é o describe(), que descreve os dados dataFrame; este metodo retorna\n",
    "# count = número de registros (linhas)\n",
    "# mean = média dos valores por coluna\n",
    "# std = desvio padrão\n",
    "# min = valor mínimo da amostra\n",
    "# quartis = 25%, 50% e 75%\n",
    "# max = valor máximo da amostra\n",
    "df2.describe()"
   ]
  },
  {
   "cell_type": "code",
   "execution_count": 82,
   "id": "616fb151",
   "metadata": {},
   "outputs": [
    {
     "data": {
      "text/plain": [
       "Ano            2019\n",
       "Pais       Portugal\n",
       "Vendas           88\n",
       "Valores    96.64715\n",
       "dtype: object"
      ]
     },
     "execution_count": 82,
     "metadata": {},
     "output_type": "execute_result"
    }
   ],
   "source": [
    "df2.max()"
   ]
  },
  {
   "cell_type": "code",
   "execution_count": 85,
   "id": "51dc9e0f",
   "metadata": {},
   "outputs": [
    {
     "data": {
      "text/plain": [
       "Ano            2014\n",
       "Pais         Brasil\n",
       "Vendas           10\n",
       "Valores    6.671826\n",
       "dtype: object"
      ]
     },
     "execution_count": 85,
     "metadata": {},
     "output_type": "execute_result"
    }
   ],
   "source": [
    "df2.min()"
   ]
  },
  {
   "cell_type": "code",
   "execution_count": 86,
   "id": "321d9059",
   "metadata": {},
   "outputs": [
    {
     "data": {
      "text/html": [
       "<div>\n",
       "<style scoped>\n",
       "    .dataframe tbody tr th:only-of-type {\n",
       "        vertical-align: middle;\n",
       "    }\n",
       "\n",
       "    .dataframe tbody tr th {\n",
       "        vertical-align: top;\n",
       "    }\n",
       "\n",
       "    .dataframe thead th {\n",
       "        text-align: right;\n",
       "    }\n",
       "</style>\n",
       "<table border=\"1\" class=\"dataframe\">\n",
       "  <thead>\n",
       "    <tr style=\"text-align: right;\">\n",
       "      <th></th>\n",
       "      <th>Ano</th>\n",
       "      <th>Pais</th>\n",
       "      <th>Vendas</th>\n",
       "      <th>Valores</th>\n",
       "    </tr>\n",
       "  </thead>\n",
       "  <tbody>\n",
       "    <tr>\n",
       "      <th>A</th>\n",
       "      <td>2014</td>\n",
       "      <td>EUA</td>\n",
       "      <td>50</td>\n",
       "      <td>55.044198</td>\n",
       "    </tr>\n",
       "    <tr>\n",
       "      <th>B</th>\n",
       "      <td>2015</td>\n",
       "      <td>China</td>\n",
       "      <td>60</td>\n",
       "      <td>82.734383</td>\n",
       "    </tr>\n",
       "    <tr>\n",
       "      <th>C</th>\n",
       "      <td>2016</td>\n",
       "      <td>Brasil</td>\n",
       "      <td>70</td>\n",
       "      <td>71.773919</td>\n",
       "    </tr>\n",
       "    <tr>\n",
       "      <th>D</th>\n",
       "      <td>2017</td>\n",
       "      <td>Canada</td>\n",
       "      <td>40</td>\n",
       "      <td>96.647150</td>\n",
       "    </tr>\n",
       "  </tbody>\n",
       "</table>\n",
       "</div>"
      ],
      "text/plain": [
       "    Ano    Pais  Vendas    Valores\n",
       "A  2014     EUA      50  55.044198\n",
       "B  2015   China      60  82.734383\n",
       "C  2016  Brasil      70  71.773919\n",
       "D  2017  Canada      40  96.647150"
      ]
     },
     "execution_count": 86,
     "metadata": {},
     "output_type": "execute_result"
    }
   ],
   "source": [
    "#É possivel fatiar o dataFrame por meio do nome dos índices\n",
    "df2['A':'D']"
   ]
  },
  {
   "cell_type": "code",
   "execution_count": 87,
   "id": "f6d9e23a",
   "metadata": {},
   "outputs": [
    {
     "data": {
      "text/plain": [
       "Ano            2017\n",
       "Pais         Canada\n",
       "Vendas           40\n",
       "Valores    96.64715\n",
       "Name: D, dtype: object"
      ]
     },
     "execution_count": 87,
     "metadata": {},
     "output_type": "execute_result"
    }
   ],
   "source": [
    "#Podemos pesquisar e retornar os dados somente de um índice\n",
    "df2.loc['D']"
   ]
  },
  {
   "cell_type": "code",
   "execution_count": 88,
   "id": "42d26a9d",
   "metadata": {},
   "outputs": [],
   "source": [
    "#Como você deve ter percebido, Pandas é um pacote sofisticado para manipular\n",
    "#dados, podendo ser utilizado junto ao Numpy para preparar os dados que serão\n",
    "#examinados. É comum prepararmos dados com esses pacotes para, então, \n",
    "#plotarmos – desenharmos – gráficos com a biblioteca Matplotlib – que veremos a seguir"
   ]
  },
  {
   "cell_type": "code",
   "execution_count": null,
   "id": "2668a753",
   "metadata": {},
   "outputs": [],
   "source": []
  }
 ],
 "metadata": {
  "kernelspec": {
   "display_name": "Python 3 (ipykernel)",
   "language": "python",
   "name": "python3"
  },
  "language_info": {
   "codemirror_mode": {
    "name": "ipython",
    "version": 3
   },
   "file_extension": ".py",
   "mimetype": "text/x-python",
   "name": "python",
   "nbconvert_exporter": "python",
   "pygments_lexer": "ipython3",
   "version": "3.11.5"
  }
 },
 "nbformat": 4,
 "nbformat_minor": 5
}
